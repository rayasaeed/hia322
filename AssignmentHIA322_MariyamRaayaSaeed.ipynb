{
 "cells": [
  {
   "cell_type": "code",
   "execution_count": 233,
   "id": "60a19446-404d-4ff4-9147-4632811adc02",
   "metadata": {},
   "outputs": [],
   "source": [
    "import os"
   ]
  },
  {
   "cell_type": "code",
   "execution_count": 234,
   "id": "cc7029d3-8bad-4700-b538-6d0c8a178489",
   "metadata": {},
   "outputs": [],
   "source": [
    "os.chdir('/Users/rayasaeed/Desktop/hia322_datacollection/individual_assessment')"
   ]
  },
  {
   "cell_type": "code",
   "execution_count": 235,
   "id": "9c297820-a44d-49b6-ad0e-c590b3b70734",
   "metadata": {},
   "outputs": [],
   "source": [
    "import pandas as pd\n",
    "import numpy as np"
   ]
  },
  {
   "cell_type": "markdown",
   "id": "02adc464-8c1b-4f98-a739-c4e0a65199e6",
   "metadata": {},
   "source": [
    "a. Demonstrate different ways to convert the horse-colic.txt file to horsecolic.csv. "
   ]
  },
  {
   "cell_type": "code",
   "execution_count": 237,
   "id": "cc112a2b-ad53-40e9-b009-51a41e7df9dd",
   "metadata": {},
   "outputs": [],
   "source": [
    "#convert .txt to .csv\n",
    "def convert_txt_to_csv(input_file, output_file):\n",
    "    df = pd.read_csv(input_file, sep=',', header=None)\n",
    "    df.to_csv(output_file, index=False, header=False)\n",
    "    return df"
   ]
  },
  {
   "cell_type": "code",
   "execution_count": 238,
   "id": "485b1613-0aa5-434a-8a26-6adf5a89d894",
   "metadata": {},
   "outputs": [],
   "source": [
    "# demonstration of another way to convert .txt to .csv\n"
   ]
  },
  {
   "cell_type": "markdown",
   "id": "59045d40-5db4-4795-b9c3-bc67c4a4d08a",
   "metadata": {},
   "source": [
    "b. Demonstrate that the csv file can read in Jupyter Notebook, and the dataset remains\n",
    "the same as the raw dataset"
   ]
  },
  {
   "cell_type": "code",
   "execution_count": 240,
   "id": "8357221b-bf0a-4f20-8a7b-ca0c1eaf8485",
   "metadata": {},
   "outputs": [],
   "source": [
    "#function usage\n",
    "input_txt = \"horse-colic.txt\"  \n",
    "output_csv = \"horsecolic.csv\"\n",
    "\n",
    "df_original = convert_txt_to_csv(input_txt, output_csv)"
   ]
  },
  {
   "cell_type": "code",
   "execution_count": 241,
   "id": "b3b8e0c9-2db2-42a2-abec-4de89e0715dd",
   "metadata": {},
   "outputs": [],
   "source": [
    "#reading and verifying the CSV file\n",
    "def read_and_verify_csv(csv_file):\n",
    "    #reading data file\n",
    "    df = pd.read_csv(csv_file, header=None)\n",
    "    #verify data\n",
    "    print(\"Dataset Shape:\", df.shape)\n",
    "    print(\"\\nFirst few rows:\")\n",
    "    print(df.head())\n",
    "    return df"
   ]
  },
  {
   "cell_type": "markdown",
   "id": "97b88d81-cfb5-44de-96e1-d57a8bf8a915",
   "metadata": {},
   "source": [
    "c. Replace the missing values (i.e. with “?”) with a NaN (Not a Number) value in a loaded\n",
    "dataset using Python. "
   ]
  },
  {
   "cell_type": "code",
   "execution_count": 243,
   "id": "a34856a9-ad73-4c51-a4fe-e4e6b7d08d63",
   "metadata": {},
   "outputs": [],
   "source": [
    "#function to replace '?' with NaN\n",
    "def replace_missing_values(df):\n",
    "   \n",
    "    df_cleaned = df.replace('?', np.nan)\n",
    "    print(\"\\nMissing Value Statistics:\")\n",
    "    print(df_cleaned.isna().sum())\n",
    "    return df_cleaned"
   ]
  },
  {
   "cell_type": "markdown",
   "id": "0f37bbbe-f695-4372-aa1c-b005be085582",
   "metadata": {},
   "source": [
    "d. Save the latest dataset with NaN as horse-colic-with-NaN.csv and ensure\n",
    "the data frame’s row number is not saved into the csv file."
   ]
  },
  {
   "cell_type": "code",
   "execution_count": 245,
   "id": "6f7e9b96-da33-4a18-81e7-55c0e74f9adb",
   "metadata": {},
   "outputs": [],
   "source": [
    "#function that saves the cleaned dataset\n",
    "def save_cleaned_dataset(df, output_file):\n",
    "    df.to_csv(output_file, index=False, header=False)"
   ]
  },
  {
   "cell_type": "code",
   "execution_count": 246,
   "id": "8dc4ba70-115a-496a-82f6-00397e5b3b40",
   "metadata": {},
   "outputs": [],
   "source": [
    "input_txt = \"horse-colic.txt\" #input text file\n",
    "output_csv = \"horsecolic.csv\" #output CSV file\n",
    "nan_csv = \"horse-colic-with-NaN.csv\" #CSV file with NaN"
   ]
  },
  {
   "cell_type": "code",
   "execution_count": 247,
   "id": "4d2f15ba-f176-4bed-8231-9cef6c110ba6",
   "metadata": {},
   "outputs": [],
   "source": [
    "#convert txt file to csv file\n",
    "df_original = convert_txt_to_csv(input_txt, output_csv)"
   ]
  },
  {
   "cell_type": "code",
   "execution_count": 248,
   "id": "c1cf97dd-b426-48cc-97a2-58e3ec2c773b",
   "metadata": {},
   "outputs": [
    {
     "name": "stdout",
     "output_type": "stream",
     "text": [
      "Dataset Shape: (300, 28)\n",
      "\n",
      "First few rows:\n",
      "  0   1        2      3    4   5  6  7  8  9   ...     18    19 20    21 22  \\\n",
      "0  2   1   530101  38.50   66  28  3  3  ?  2  ...  45.00  8.40  ?     ?  2   \n",
      "1  1   1   534817   39.2   88  20  ?  ?  4  1  ...     50    85  2     2  3   \n",
      "2  2   1   530334  38.30   40  24  1  1  3  1  ...  33.00  6.70  ?     ?  1   \n",
      "3  1   9  5290409  39.10  164  84  4  1  6  2  ...  48.00  7.20  3  5.30  2   \n",
      "4  2   1   530255  37.30  104  35  ?  ?  6  2  ...  74.00  7.40  ?     ?  2   \n",
      "\n",
      "  23     24 25 26 27  \n",
      "0  2  11300  0  0  2  \n",
      "1  2   2208  0  0  2  \n",
      "2  2      0  0  0  1  \n",
      "3  1   2208  0  0  1  \n",
      "4  2   4300  0  0  2  \n",
      "\n",
      "[5 rows x 28 columns]\n"
     ]
    }
   ],
   "source": [
    "#new CSV file\n",
    "df_csv = read_and_verify_csv(output_csv)"
   ]
  },
  {
   "cell_type": "code",
   "execution_count": 249,
   "id": "07808ded-23de-42a1-bb9c-2f05eecc8cb5",
   "metadata": {},
   "outputs": [
    {
     "name": "stdout",
     "output_type": "stream",
     "text": [
      "\n",
      "Missing Value Statistics:\n",
      "0       1\n",
      "1       0\n",
      "2       0\n",
      "3      60\n",
      "4      24\n",
      "5      58\n",
      "6      56\n",
      "7      69\n",
      "8      47\n",
      "9      32\n",
      "10     55\n",
      "11     44\n",
      "12     56\n",
      "13    104\n",
      "14    106\n",
      "15    247\n",
      "16    102\n",
      "17    118\n",
      "18     29\n",
      "19     33\n",
      "20    165\n",
      "21    198\n",
      "22      1\n",
      "23      0\n",
      "24      0\n",
      "25      0\n",
      "26      0\n",
      "27      0\n",
      "dtype: int64\n"
     ]
    }
   ],
   "source": [
    "#replacing '?' with NaN and missing value statistics\n",
    "df_cleaned = replace_missing_values(df_csv)"
   ]
  },
  {
   "cell_type": "code",
   "execution_count": 250,
   "id": "c6b181ce-ce38-4644-9e0d-cf4bbabe746a",
   "metadata": {},
   "outputs": [],
   "source": [
    "#save cleaned dataset\n",
    "save_cleaned_dataset(df_cleaned, nan_csv)"
   ]
  },
  {
   "cell_type": "code",
   "execution_count": 251,
   "id": "3d409d29-cead-4a8b-9808-383bc989521e",
   "metadata": {},
   "outputs": [
    {
     "name": "stdout",
     "output_type": "stream",
     "text": [
      " Original CSV file: horsecolic.csv\n",
      " Cleaned CSV file with NaN values: horse-colic-with-NaN.csv\n"
     ]
    }
   ],
   "source": [
    "print(f\" Original CSV file: {output_csv}\")\n",
    "print(f\" Cleaned CSV file with NaN values: {nan_csv}\")"
   ]
  },
  {
   "cell_type": "markdown",
   "id": "d35d01ce-58e2-40ea-8daf-2effbe561013",
   "metadata": {},
   "source": [
    "e. Rename the header by following the\n",
    "description file (horse-colic.names) with not more than 10 characters in the\n",
    "header title"
   ]
  },
  {
   "cell_type": "code",
   "execution_count": 253,
   "id": "4daaad69-9a9d-455b-bfd9-573f31982414",
   "metadata": {},
   "outputs": [],
   "source": [
    "#list of column names\n",
    "column_names = [\n",
    "    \"surgery\", \"age\", \"hos_num\", \"rect_temp\", \"pulse\", \"resp_rate\", \"ext_temp\",\n",
    "    \"periph_p\", \"muc_mem\", \"cap_ref\", \"pain\", \"perist\", \"abd_dist\", \"nasog_tub\",\n",
    "    \"nasog_ref\", \"nasog_ph\", \"rect_fec\", \"abd_cond\", \"pack_cell\", \"tot_prot\",\n",
    "    \"ab_appr\", \"ab_prot\", \"outcome\", \"surg_les\", \"les_site\", \"les_type\",\n",
    "    \"les_subt\", \"path_data\"\n",
    "]\n",
    "\n",
    "#setting column names\n",
    "df = pd.read_csv(nan_csv, sep=',', header=None)\n",
    "df.columns = column_names"
   ]
  },
  {
   "cell_type": "markdown",
   "id": "7ec5b7be-04d7-495b-b58c-0629e9b46b6f",
   "metadata": {},
   "source": [
    "f. Save the latest dataset with header title as horse-colic-with-title.csv and\n",
    "ensure the data frame’s row number is not saved into the csv file."
   ]
  },
  {
   "cell_type": "code",
   "execution_count": 255,
   "id": "a09c0330",
   "metadata": {},
   "outputs": [],
   "source": [
    "#save as new CSV\n",
    "df.to_csv(\"horse-colic-with-title.csv\", index=False)"
   ]
  },
  {
   "cell_type": "markdown",
   "id": "c684bef4-5c39-47b5-a394-c94a59104b2a",
   "metadata": {},
   "source": [
    "g. Load the horse-colic-with-title.csv file and display a list of total NaN at\n",
    "each column in the dataset. "
   ]
  },
  {
   "cell_type": "code",
   "execution_count": 256,
   "id": "29098ee0-07e5-4c5c-ba14-554102b7e1ac",
   "metadata": {},
   "outputs": [
    {
     "name": "stdout",
     "output_type": "stream",
     "text": [
      "Total NaN count per column:\n",
      "surgery        1\n",
      "age            0\n",
      "hos_num        0\n",
      "rect_temp     60\n",
      "pulse         24\n",
      "resp_rate     58\n",
      "ext_temp      56\n",
      "periph_p      69\n",
      "muc_mem       47\n",
      "cap_ref       32\n",
      "pain          55\n",
      "perist        44\n",
      "abd_dist      56\n",
      "nasog_tub    104\n",
      "nasog_ref    106\n",
      "nasog_ph     247\n",
      "rect_fec     102\n",
      "abd_cond     118\n",
      "pack_cell     29\n",
      "tot_prot      33\n",
      "ab_appr      165\n",
      "ab_prot      198\n",
      "outcome        1\n",
      "surg_les       0\n",
      "les_site       0\n",
      "les_type       0\n",
      "les_subt       0\n",
      "path_data      0\n",
      "dtype: int64\n"
     ]
    }
   ],
   "source": [
    "#display total NaN counts from dataset\n",
    "titled_csv = \"horse-colic-with-title.csv\"\n",
    "\n",
    "#loading CSV file\n",
    "df = pd.read_csv(titled_csv)\n",
    "\n",
    "#displaying total NaN counts for each column\n",
    "print(\"Total NaN count per column:\")\n",
    "print(df.isna().sum())"
   ]
  },
  {
   "cell_type": "markdown",
   "id": "eaad558a-7b56-4ba4-936c-264e97913e69",
   "metadata": {},
   "source": [
    "h. Visualise the total NaN at each column in the dataset with a bar chart and set the\n",
    "colour to ‘blue’ using Matplotlib library"
   ]
  },
  {
   "cell_type": "code",
   "execution_count": 257,
   "id": "2b105763-7987-4285-bf15-fab60a3d9188",
   "metadata": {},
   "outputs": [
    {
     "data": {
      "image/png": "[encoded data removed]",
      "text/plain": [
       "<Figure size 640x480 with 1 Axes>"
      ]
     },
     "metadata": {},
     "output_type": "display_data"
    }
   ],
   "source": [
    "titled_csv = \"horse-colic-with-title.csv\"\n",
    "df = pd.read_csv(titled_csv)\n",
    "\n",
    "#total NaN counts\n",
    "nan_counts = df.isna().sum()\n",
    "\n",
    "#bar chart of NaN counts\n",
    "plt.bar(nan_counts.index, nan_counts.values, color='blue')\n",
    "plt.xlabel(\"Columns\")\n",
    "plt.ylabel(\"Total NaN\")\n",
    "plt.title(\"Total NaN Values Per Column\")\n",
    "plt.xticks(rotation=90)  \n",
    "plt.tight_layout() \n",
    "plt.show()"
   ]
  },
  {
   "cell_type": "markdown",
   "id": "ce7b8418-3b86-4111-bf0e-f98bd36124b2",
   "metadata": {},
   "source": [
    "i. Retrieve the datatypes (e.g. float, integer, object, string etc.) for the dataset"
   ]
  },
  {
   "cell_type": "code",
   "execution_count": 258,
   "id": "39826d62-2813-4bf5-a77e-14bf8d0c2517",
   "metadata": {},
   "outputs": [
    {
     "name": "stdout",
     "output_type": "stream",
     "text": [
      "Datatypes of each column:\n",
      "surgery      float64\n",
      "age            int64\n",
      "hos_num        int64\n",
      "rect_temp    float64\n",
      "pulse        float64\n",
      "resp_rate    float64\n",
      "ext_temp     float64\n",
      "periph_p     float64\n",
      "muc_mem      float64\n",
      "cap_ref      float64\n",
      "pain         float64\n",
      "perist       float64\n",
      "abd_dist     float64\n",
      "nasog_tub    float64\n",
      "nasog_ref    float64\n",
      "nasog_ph     float64\n",
      "rect_fec     float64\n",
      "abd_cond     float64\n",
      "pack_cell    float64\n",
      "tot_prot     float64\n",
      "ab_appr      float64\n",
      "ab_prot      float64\n",
      "outcome      float64\n",
      "surg_les       int64\n",
      "les_site       int64\n",
      "les_type       int64\n",
      "les_subt       int64\n",
      "path_data      int64\n",
      "dtype: object\n"
     ]
    }
   ],
   "source": [
    "#load the dataset\n",
    "titled_csv = \"horse-colic-with-title.csv\"\n",
    "df = pd.read_csv(titled_csv)\n",
    "\n",
    "#display datatypes of each column\n",
    "print(\"Datatypes of each column:\")\n",
    "print(df.dtypes)"
   ]
  },
  {
   "cell_type": "markdown",
   "id": "e543db2c-e874-4b5a-a472-ab8d9e0cc47b",
   "metadata": {},
   "source": [
    "j. In this dataset, will it be a good idea to delete/drop out the NaN rows?\n",
    "\n",
    "It is not a good idea in this case to drop out these rows as the data set contains information about only 300 horses and the dataset is therefore considered small. As there area  significant number of missing values in the data, deleting the NaN rows would lead to bias in the data.\n"
   ]
  },
  {
   "cell_type": "markdown",
   "id": "160e7741-721e-47c6-a006-b000a5f2b393",
   "metadata": {},
   "source": [
    "k. Read and evaluate the following code in Figure 1. What method is the code using to\n",
    "reduce the missing value from 1605 to 0? Justify your answer.\n",
    "\n",
    "- This section uses 'mean imputation' to reduce the missing values. Initially, the missing values (which are represented in the sataset by '?') are replaced with NaN to allow data processing.\n",
    "- This technique allows the replacement of missins values by caluclating the mean of the data already pressent in the same column. In this way, the total number of missing values is reduced from 1605 to 0."
   ]
  },
  {
   "cell_type": "markdown",
   "id": "dd5abd13-e089-437e-b157-2d73058515bc",
   "metadata": {},
   "source": [
    "l. Fill out the inline comments marked with hashtags ‘#’ in lines 8, 11, 17, 20, 22 and 26.\n",
    "Include the missing codes in lines 5 and 6. "
   ]
  },
  {
   "cell_type": "code",
   "execution_count": 261,
   "id": "0029c5f3-9114-4252-a05b-388341beb16d",
   "metadata": {},
   "outputs": [
    {
     "name": "stdout",
     "output_type": "stream",
     "text": [
      "Missing: 1605\n",
      "Missing: 0\n"
     ]
    }
   ],
   "source": [
    "from numpy import isnan\n",
    "from pandas import read_csv\n",
    "from sklearn.impute import SimpleImputer\n",
    "\n",
    "dataframe = read_csv(\"horsecolic.csv\", header=None)  #load the dataset\n",
    "dataframe = dataframe.replace('?', float('nan')).apply(pd.to_numeric, errors='coerce')  #replace '?' and convert to numeric\n",
    "\n",
    "#extracting the data values (numpy array format) from the original pandas DataFrame\n",
    "data = dataframe.values\n",
    "\n",
    "#separating variables: input (X) from target (y), all columns will be selected except column 23\n",
    "totalCol = data.shape[1]\n",
    "ix = [i for i in range(totalCol) if i != 23] \n",
    "X = data[:,ix]\n",
    "y = data[:, 23] \n",
    "\n",
    "#printing of the total number of missing values in the dataset before imputation\n",
    "print('Missing: %d' % sum(isnan(X).flatten()))\n",
    "\n",
    "#creating an imputer to fill missing values with the column mean\n",
    "imputer = SimpleImputer(strategy='mean')\n",
    "#the imputer is made to fit the input dataset to calculate column means and missing values are replaced with the calculated column mean\n",
    "imputer.fit(X)\n",
    "Xtrans = imputer.transform(X)\n",
    "\n",
    "#after imputing: counting and printing of the number of missing values in the dataset now (should be 0)\n",
    "print('Missing: %d' % sum(isnan(Xtrans).flatten()))"
   ]
  },
  {
   "cell_type": "code",
   "execution_count": null,
   "id": "6d3f58fe-39ec-447b-834b-5752eae21b3d",
   "metadata": {},
   "outputs": [],
   "source": []
  },
  {
   "cell_type": "code",
   "execution_count": null,
   "id": "e1db9c01-2b6b-450a-9eff-5c3aa9dbf854",
   "metadata": {},
   "outputs": [],
   "source": []
  }
 ],
 "metadata": {
  "kernelspec": {
   "display_name": "Python 3 (ipykernel)",
   "language": "python",
   "name": "python3"
  },
  "language_info": {
   "codemirror_mode": {
    "name": "ipython",
    "version": 3
   },
   "file_extension": ".py",
   "mimetype": "text/x-python",
   "name": "python",
   "nbconvert_exporter": "python",
   "pygments_lexer": "ipython3",
   "version": "3.12.4"
  }
 },
 "nbformat": 4,
 "nbformat_minor": 5
}
