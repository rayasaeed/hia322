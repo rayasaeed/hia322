{
 "cells": [
  {
   "cell_type": "code",
   "execution_count": 3,
   "id": "cf77680e-91a0-4144-8a96-62309f49dc3a",
   "metadata": {},
   "outputs": [],
   "source": [
    "import pandas as pd"
   ]
  },
  {
   "cell_type": "code",
   "execution_count": 11,
   "id": "3d459067-1f67-449f-872c-67ff3e98ed83",
   "metadata": {},
   "outputs": [],
   "source": [
    "file_path = \"/Users/rayasaeed/Desktop/hia322_datacollection/Uncleaned_Healthcare_Data_v2.xlsx\"\n",
    "excel_file = pd.ExcelFile(file_path)"
   ]
  },
  {
   "cell_type": "code",
   "execution_count": 15,
   "id": "87313e76-d383-4772-9dd5-039516c7b343",
   "metadata": {},
   "outputs": [
    {
     "data": {
      "text/plain": [
       "['FactTable',\n",
       " 'dimPatient',\n",
       " 'dimTransaction',\n",
       " 'dimPhysician',\n",
       " 'dimPayer',\n",
       " 'dimLocation',\n",
       " 'dimDiagnosisCode',\n",
       " 'dimCptCode',\n",
       " 'dimDate']"
      ]
     },
     "execution_count": 15,
     "metadata": {},
     "output_type": "execute_result"
    }
   ],
   "source": [
    "excel_file.sheet_names"
   ]
  },
  {
   "cell_type": "code",
   "execution_count": 17,
   "id": "bd765990-aa27-4c65-9441-b889f6d3910e",
   "metadata": {},
   "outputs": [],
   "source": [
    "fact_table = excel_file.parse('FactTable')"
   ]
  },
  {
   "cell_type": "code",
   "execution_count": 19,
   "id": "5fefe63b-3f84-45f4-aa31-93db843735d7",
   "metadata": {},
   "outputs": [
    {
     "data": {
      "text/html": [
       "<div>\n",
       "<style scoped>\n",
       "    .dataframe tbody tr th:only-of-type {\n",
       "        vertical-align: middle;\n",
       "    }\n",
       "\n",
       "    .dataframe tbody tr th {\n",
       "        vertical-align: top;\n",
       "    }\n",
       "\n",
       "    .dataframe thead th {\n",
       "        text-align: right;\n",
       "    }\n",
       "</style>\n",
       "<table border=\"1\" class=\"dataframe\">\n",
       "  <thead>\n",
       "    <tr style=\"text-align: right;\">\n",
       "      <th></th>\n",
       "      <th>FactTablePK</th>\n",
       "      <th>dimPatientPK</th>\n",
       "      <th>dimPhysicianPK</th>\n",
       "      <th>dimDatePostPK</th>\n",
       "      <th>dimDateServicePK</th>\n",
       "      <th>dimCPTCodePK</th>\n",
       "      <th>dimPayerPK</th>\n",
       "      <th>dimTransactionPK</th>\n",
       "      <th>dimLocationPK</th>\n",
       "      <th>PatientNumber</th>\n",
       "      <th>dimDiagnosisCodePK</th>\n",
       "      <th>CPTUnits</th>\n",
       "      <th>GrossCharge</th>\n",
       "      <th>Payment</th>\n",
       "      <th>Adjustment</th>\n",
       "      <th>AR</th>\n",
       "    </tr>\n",
       "  </thead>\n",
       "  <tbody>\n",
       "    <tr>\n",
       "      <th>0</th>\n",
       "      <td>1082164042</td>\n",
       "      <td>6066415</td>\n",
       "      <td>216412</td>\n",
       "      <td>20200528</td>\n",
       "      <td>20191215</td>\n",
       "      <td>583482</td>\n",
       "      <td>58987</td>\n",
       "      <td>49468</td>\n",
       "      <td>785522</td>\n",
       "      <td>21384136</td>\n",
       "      <td>92564854</td>\n",
       "      <td>-600</td>\n",
       "      <td>-10000.0</td>\n",
       "      <td>0.0</td>\n",
       "      <td>0.0</td>\n",
       "      <td>-6600.0</td>\n",
       "    </tr>\n",
       "    <tr>\n",
       "      <th>1</th>\n",
       "      <td>1027823678</td>\n",
       "      <td>5810482</td>\n",
       "      <td>216111</td>\n",
       "      <td>20200501</td>\n",
       "      <td>20191215</td>\n",
       "      <td>581655</td>\n",
       "      <td>98735</td>\n",
       "      <td>50858</td>\n",
       "      <td>786431</td>\n",
       "      <td>21387258</td>\n",
       "      <td>107435147</td>\n",
       "      <td>0</td>\n",
       "      <td>-3899.0</td>\n",
       "      <td>0.0</td>\n",
       "      <td>0.0</td>\n",
       "      <td>-3899.0</td>\n",
       "    </tr>\n",
       "    <tr>\n",
       "      <th>2</th>\n",
       "      <td>922963624</td>\n",
       "      <td>5337135</td>\n",
       "      <td>215646</td>\n",
       "      <td>20200102</td>\n",
       "      <td>20191215</td>\n",
       "      <td>596355</td>\n",
       "      <td>92873</td>\n",
       "      <td>53713</td>\n",
       "      <td>786027</td>\n",
       "      <td>21381441</td>\n",
       "      <td>81963015</td>\n",
       "      <td>-1</td>\n",
       "      <td>-2670.0</td>\n",
       "      <td>0.0</td>\n",
       "      <td>0.0</td>\n",
       "      <td>-2670.0</td>\n",
       "    </tr>\n",
       "    <tr>\n",
       "      <th>3</th>\n",
       "      <td>923120306</td>\n",
       "      <td>5337135</td>\n",
       "      <td>215646</td>\n",
       "      <td>20200102</td>\n",
       "      <td>20191215</td>\n",
       "      <td>596355</td>\n",
       "      <td>58987</td>\n",
       "      <td>53713</td>\n",
       "      <td>786027</td>\n",
       "      <td>21381441</td>\n",
       "      <td>81963015</td>\n",
       "      <td>-1</td>\n",
       "      <td>-2670.0</td>\n",
       "      <td>0.0</td>\n",
       "      <td>0.0</td>\n",
       "      <td>-2670.0</td>\n",
       "    </tr>\n",
       "    <tr>\n",
       "      <th>4</th>\n",
       "      <td>951760836</td>\n",
       "      <td>5337135</td>\n",
       "      <td>215646</td>\n",
       "      <td>20200205</td>\n",
       "      <td>20191215</td>\n",
       "      <td>596355</td>\n",
       "      <td>98735</td>\n",
       "      <td>53713</td>\n",
       "      <td>786027</td>\n",
       "      <td>21381441</td>\n",
       "      <td>72207535</td>\n",
       "      <td>-1</td>\n",
       "      <td>-2670.0</td>\n",
       "      <td>0.0</td>\n",
       "      <td>0.0</td>\n",
       "      <td>-2670.0</td>\n",
       "    </tr>\n",
       "  </tbody>\n",
       "</table>\n",
       "</div>"
      ],
      "text/plain": [
       "   FactTablePK  dimPatientPK  dimPhysicianPK  dimDatePostPK  dimDateServicePK  \\\n",
       "0   1082164042       6066415          216412       20200528          20191215   \n",
       "1   1027823678       5810482          216111       20200501          20191215   \n",
       "2    922963624       5337135          215646       20200102          20191215   \n",
       "3    923120306       5337135          215646       20200102          20191215   \n",
       "4    951760836       5337135          215646       20200205          20191215   \n",
       "\n",
       "   dimCPTCodePK  dimPayerPK  dimTransactionPK  dimLocationPK  PatientNumber  \\\n",
       "0        583482       58987             49468         785522       21384136   \n",
       "1        581655       98735             50858         786431       21387258   \n",
       "2        596355       92873             53713         786027       21381441   \n",
       "3        596355       58987             53713         786027       21381441   \n",
       "4        596355       98735             53713         786027       21381441   \n",
       "\n",
       "   dimDiagnosisCodePK  CPTUnits  GrossCharge  Payment  Adjustment      AR  \n",
       "0            92564854      -600     -10000.0      0.0         0.0 -6600.0  \n",
       "1           107435147         0      -3899.0      0.0         0.0 -3899.0  \n",
       "2            81963015        -1      -2670.0      0.0         0.0 -2670.0  \n",
       "3            81963015        -1      -2670.0      0.0         0.0 -2670.0  \n",
       "4            72207535        -1      -2670.0      0.0         0.0 -2670.0  "
      ]
     },
     "execution_count": 19,
     "metadata": {},
     "output_type": "execute_result"
    }
   ],
   "source": [
    "fact_table.head()"
   ]
  },
  {
   "cell_type": "code",
   "execution_count": 25,
   "id": "4a16fa1b-d60d-4ba5-84b8-0b7f59d579ca",
   "metadata": {},
   "outputs": [],
   "source": [
    "sheets = {sheet_name: excel_file.parse(sheet_name) for sheet_name in excel_file.sheet_names}"
   ]
  },
  {
   "cell_type": "code",
   "execution_count": 27,
   "id": "be245af4-99d6-40ce-8106-8e5778c04ba7",
   "metadata": {},
   "outputs": [
    {
     "name": "stdout",
     "output_type": "stream",
     "text": [
      "<class 'pandas.core.frame.DataFrame'>\n",
      "RangeIndex: 84220 entries, 0 to 84219\n",
      "Data columns (total 16 columns):\n",
      " #   Column              Non-Null Count  Dtype  \n",
      "---  ------              --------------  -----  \n",
      " 0   FactTablePK         84220 non-null  int64  \n",
      " 1   dimPatientPK        84220 non-null  int64  \n",
      " 2   dimPhysicianPK      84220 non-null  int64  \n",
      " 3   dimDatePostPK       84220 non-null  int64  \n",
      " 4   dimDateServicePK    84220 non-null  int64  \n",
      " 5   dimCPTCodePK        84220 non-null  int64  \n",
      " 6   dimPayerPK          84220 non-null  int64  \n",
      " 7   dimTransactionPK    84220 non-null  int64  \n",
      " 8   dimLocationPK       84220 non-null  int64  \n",
      " 9   PatientNumber       84220 non-null  int64  \n",
      " 10  dimDiagnosisCodePK  84220 non-null  int64  \n",
      " 11  CPTUnits            84220 non-null  int64  \n",
      " 12  GrossCharge         84220 non-null  float64\n",
      " 13  Payment             84220 non-null  float64\n",
      " 14  Adjustment          84220 non-null  float64\n",
      " 15  AR                  84220 non-null  float64\n",
      "dtypes: float64(4), int64(12)\n",
      "memory usage: 10.3 MB\n"
     ]
    }
   ],
   "source": [
    "#what is the structure of the FactTable dataset\n",
    "\n",
    "fact_table.info()"
   ]
  },
  {
   "cell_type": "code",
   "execution_count": 29,
   "id": "bfcf854b-8cea-48af-bf35-94956656be4b",
   "metadata": {},
   "outputs": [
    {
     "data": {
      "text/plain": [
       "1"
      ]
     },
     "execution_count": 29,
     "metadata": {},
     "output_type": "execute_result"
    }
   ],
   "source": [
    "#are there any missing or duplicate rows in the FactTable?\n",
    "fact_table.isnull().sum() #checks for missing values\n",
    "fact_table.duplicated().sum() #check for duplicates"
   ]
  },
  {
   "cell_type": "code",
   "execution_count": 33,
   "id": "2f87d02e-f1af-44bc-9601-06c439bc5db7",
   "metadata": {},
   "outputs": [
    {
     "data": {
      "text/html": [
       "<div>\n",
       "<style scoped>\n",
       "    .dataframe tbody tr th:only-of-type {\n",
       "        vertical-align: middle;\n",
       "    }\n",
       "\n",
       "    .dataframe tbody tr th {\n",
       "        vertical-align: top;\n",
       "    }\n",
       "\n",
       "    .dataframe thead th {\n",
       "        text-align: right;\n",
       "    }\n",
       "</style>\n",
       "<table border=\"1\" class=\"dataframe\">\n",
       "  <thead>\n",
       "    <tr style=\"text-align: right;\">\n",
       "      <th></th>\n",
       "      <th>GrossCharge</th>\n",
       "      <th>Payment</th>\n",
       "      <th>Adjustment</th>\n",
       "    </tr>\n",
       "  </thead>\n",
       "  <tbody>\n",
       "    <tr>\n",
       "      <th>count</th>\n",
       "      <td>84220.000000</td>\n",
       "      <td>84220.000000</td>\n",
       "      <td>84220.000000</td>\n",
       "    </tr>\n",
       "    <tr>\n",
       "      <th>mean</th>\n",
       "      <td>17.322095</td>\n",
       "      <td>-8.354468</td>\n",
       "      <td>-8.509651</td>\n",
       "    </tr>\n",
       "    <tr>\n",
       "      <th>std</th>\n",
       "      <td>128.027626</td>\n",
       "      <td>50.581962</td>\n",
       "      <td>69.072560</td>\n",
       "    </tr>\n",
       "    <tr>\n",
       "      <th>min</th>\n",
       "      <td>-10000.000000</td>\n",
       "      <td>-3810.000000</td>\n",
       "      <td>-3941.510000</td>\n",
       "    </tr>\n",
       "    <tr>\n",
       "      <th>25%</th>\n",
       "      <td>0.000000</td>\n",
       "      <td>0.000000</td>\n",
       "      <td>0.000000</td>\n",
       "    </tr>\n",
       "    <tr>\n",
       "      <th>50%</th>\n",
       "      <td>0.000000</td>\n",
       "      <td>0.000000</td>\n",
       "      <td>0.000000</td>\n",
       "    </tr>\n",
       "    <tr>\n",
       "      <th>75%</th>\n",
       "      <td>0.000000</td>\n",
       "      <td>0.000000</td>\n",
       "      <td>0.000000</td>\n",
       "    </tr>\n",
       "    <tr>\n",
       "      <th>max</th>\n",
       "      <td>6600.000000</td>\n",
       "      <td>1406.480000</td>\n",
       "      <td>1691.950000</td>\n",
       "    </tr>\n",
       "  </tbody>\n",
       "</table>\n",
       "</div>"
      ],
      "text/plain": [
       "        GrossCharge       Payment    Adjustment\n",
       "count  84220.000000  84220.000000  84220.000000\n",
       "mean      17.322095     -8.354468     -8.509651\n",
       "std      128.027626     50.581962     69.072560\n",
       "min   -10000.000000  -3810.000000  -3941.510000\n",
       "25%        0.000000      0.000000      0.000000\n",
       "50%        0.000000      0.000000      0.000000\n",
       "75%        0.000000      0.000000      0.000000\n",
       "max     6600.000000   1406.480000   1691.950000"
      ]
     },
     "execution_count": 33,
     "metadata": {},
     "output_type": "execute_result"
    }
   ],
   "source": [
    "#what are the min and max values for grosscharge, payment and adjustment?\n",
    "\n",
    "fact_table[['GrossCharge', 'Payment', 'Adjustment']].describe()"
   ]
  },
  {
   "cell_type": "code",
   "execution_count": 35,
   "id": "e092a996-0b02-4536-8dd8-69ba91705eba",
   "metadata": {},
   "outputs": [
    {
     "data": {
      "text/plain": [
       "4801"
      ]
     },
     "execution_count": 35,
     "metadata": {},
     "output_type": "execute_result"
    }
   ],
   "source": [
    "#how many unique dimDiagnosisCodePK values exist?\n",
    "\n",
    "fact_table['dimDiagnosisCodePK'].nunique()"
   ]
  },
  {
   "cell_type": "code",
   "execution_count": null,
   "id": "05437cc7-7884-46a6-920c-e488208c2ae5",
   "metadata": {},
   "outputs": [],
   "source": [
    "#dimPatient"
   ]
  },
  {
   "cell_type": "code",
   "execution_count": 37,
   "id": "339ee54b-e44d-4dd3-9f03-fe800e971107",
   "metadata": {},
   "outputs": [],
   "source": [
    "#transfer dim_patient sheet into a variable\n",
    "\n",
    "dim_patient = sheets['dimPatient']"
   ]
  },
  {
   "cell_type": "code",
   "execution_count": 39,
   "id": "0ad59c6d-0f74-43e8-8c95-0cd80c9b53cc",
   "metadata": {},
   "outputs": [
    {
     "data": {
      "text/plain": [
       "Email    1\n",
       "City     1\n",
       "dtype: int64"
      ]
     },
     "execution_count": 39,
     "metadata": {},
     "output_type": "execute_result"
    }
   ],
   "source": [
    "#how many people have missing info in the EMAIL or CITY columns?\n",
    "dim_patient[['Email','City']].isnull().sum()"
   ]
  },
  {
   "cell_type": "code",
   "execution_count": 43,
   "id": "00bd0883-4789-4295-8b10-ec6445308e02",
   "metadata": {},
   "outputs": [
    {
     "data": {
      "text/plain": [
       "PatientGender\n",
       "Female    3004\n",
       "Male      2111\n",
       "Femle        1\n",
       "Mle          1\n",
       "Name: count, dtype: int64"
      ]
     },
     "execution_count": 43,
     "metadata": {},
     "output_type": "execute_result"
    }
   ],
   "source": [
    "#what are the unique values in the PatientGender column and how often do they occur?\n",
    "\n",
    "dim_patient['PatientGender'].value_counts()\n"
   ]
  },
  {
   "cell_type": "code",
   "execution_count": 45,
   "id": "2f1de0f6-d7b1-4d0b-826e-317a99fb500f",
   "metadata": {},
   "outputs": [
    {
     "data": {
      "text/plain": [
       "count    5117.000000\n",
       "mean       44.355286\n",
       "std        26.023386\n",
       "min         0.000000\n",
       "25%        21.000000\n",
       "50%        44.000000\n",
       "75%        67.000000\n",
       "max        90.000000\n",
       "Name: PatientAge, dtype: float64"
      ]
     },
     "execution_count": 45,
     "metadata": {},
     "output_type": "execute_result"
    }
   ],
   "source": [
    "#what is the age distribution of the patients?\n",
    "\n",
    "dim_patient['PatientAge'].describe()"
   ]
  },
  {
   "cell_type": "code",
   "execution_count": null,
   "id": "0457d829-8d31-45e4-b8a1-dffcd36854b4",
   "metadata": {},
   "outputs": [],
   "source": [
    "#dimTRANSACTION"
   ]
  },
  {
   "cell_type": "code",
   "execution_count": 49,
   "id": "80821d47-45ab-45ba-848d-575a65d0349e",
   "metadata": {},
   "outputs": [],
   "source": [
    "#transfer dim_transaction sheet into a variable\n",
    "dim_transaction = sheets['dimTransaction']"
   ]
  },
  {
   "cell_type": "code",
   "execution_count": 51,
   "id": "2c008f64-4042-4ef3-adaf-579d10354edc",
   "metadata": {},
   "outputs": [
    {
     "data": {
      "text/plain": [
       "array(['  Charge ', 'Charge', 'Adjustment', 'Payment', 'Denial',\n",
       "       'Invoice', 'Bill'], dtype=object)"
      ]
     },
     "execution_count": 51,
     "metadata": {},
     "output_type": "execute_result"
    }
   ],
   "source": [
    "#what are the unique transaction types?\n",
    "\n",
    "dim_transaction['TransactionType'].unique()"
   ]
  },
  {
   "cell_type": "code",
   "execution_count": null,
   "id": "bb79ebe6-02e0-4aa7-9e25-075e1a9d2f74",
   "metadata": {},
   "outputs": [],
   "source": [
    "#how many transactions are missing an AdjustmentReason"
   ]
  },
  {
   "cell_type": "code",
   "execution_count": 53,
   "id": "6021587e-7ed2-40d1-9d91-b87d3ee9090e",
   "metadata": {},
   "outputs": [
    {
     "data": {
      "text/plain": [
       "1"
      ]
     },
     "execution_count": 53,
     "metadata": {},
     "output_type": "execute_result"
    }
   ],
   "source": [
    "dim_transaction['AdjustmentReason'].isnull().sum()"
   ]
  },
  {
   "cell_type": "code",
   "execution_count": null,
   "id": "5c4bfcdf-f94b-40ca-b2b3-3e742128c52b",
   "metadata": {},
   "outputs": [],
   "source": [
    "#DATA CLEANING"
   ]
  },
  {
   "cell_type": "code",
   "execution_count": null,
   "id": "ce13e134-7786-4bf6-a784-f0cb242441d8",
   "metadata": {},
   "outputs": [],
   "source": [
    "#FactTable: issue is negative and zero values in GrossCharge and CPTUnits \n",
    "#question: how can we remove rows where GrossCharge or CPTUnits has invalid values\n"
   ]
  },
  {
   "cell_type": "code",
   "execution_count": 57,
   "id": "e8aeb314-8807-4531-8217-e2995cdbc641",
   "metadata": {},
   "outputs": [
    {
     "name": "stdout",
     "output_type": "stream",
     "text": [
      "before cleaning - negative and zero values in FactTable:\n",
      "       GrossCharge  CPTUnits\n",
      "0         -10000.0      -600\n",
      "1          -3899.0         0\n",
      "2          -2670.0        -1\n",
      "3          -2670.0        -1\n",
      "4          -2670.0        -1\n",
      "...            ...       ...\n",
      "84215       6243.0         1\n",
      "84216       6600.0       600\n",
      "84217       6600.0       600\n",
      "84218       6600.0       600\n",
      "84219     -10000.0      -600\n",
      "\n",
      "[84220 rows x 2 columns]\n"
     ]
    }
   ],
   "source": [
    "#before cleaning\n",
    "print(\"before cleaning - negative and zero values in FactTable:\")\n",
    "print(fact_table[['GrossCharge', 'CPTUnits']])"
   ]
  },
  {
   "cell_type": "code",
   "execution_count": 59,
   "id": "963a1fa0-d914-476a-a54f-ad3c5ee250db",
   "metadata": {},
   "outputs": [],
   "source": [
    "fact_table_cleaned = fact_table[(fact_table['GrossCharge'] > 0) & (fact_table['GrossCharge'] > 0)]"
   ]
  },
  {
   "cell_type": "code",
   "execution_count": 61,
   "id": "9b580f8a-1470-4837-8dde-eea263720f61",
   "metadata": {},
   "outputs": [
    {
     "name": "stdout",
     "output_type": "stream",
     "text": [
      "\n",
      "After Cleaning - Removed Negative and Zero Values:\n",
      "       GrossCharge  CPTUnits\n",
      "74767         0.01         1\n",
      "74768         0.01         1\n",
      "74769         0.01         1\n",
      "74770         0.01         1\n",
      "74771         0.01         1\n",
      "...            ...       ...\n",
      "84214      4941.00         1\n",
      "84215      6243.00         1\n",
      "84216      6600.00       600\n",
      "84217      6600.00       600\n",
      "84218      6600.00       600\n",
      "\n",
      "[9452 rows x 2 columns]\n"
     ]
    }
   ],
   "source": [
    "#After cleaning\n",
    "\n",
    "print(\"\\nAfter Cleaning - Removed Negative and Zero Values:\")\n",
    "print(fact_table_cleaned[['GrossCharge', 'CPTUnits']])"
   ]
  },
  {
   "cell_type": "code",
   "execution_count": null,
   "id": "b4c046b7-a536-4339-b750-83792f8e95ea",
   "metadata": {},
   "outputs": [],
   "source": [
    "#Issue: duplicate rows\n",
    "#Q: How can we identify and remove duplicate rows from FactTable?"
   ]
  },
  {
   "cell_type": "code",
   "execution_count": 63,
   "id": "088ae984-f023-4e7e-add4-2b3fe06c53a4",
   "metadata": {},
   "outputs": [
    {
     "name": "stdout",
     "output_type": "stream",
     "text": [
      "before cleaning - duplicates in FactTable:\n",
      "1 duplicate rows found.\n"
     ]
    }
   ],
   "source": [
    "print(\"before cleaning - duplicates in FactTable:\")\n",
    "print(fact_table.duplicated().sum(), \"duplicate rows found.\")"
   ]
  },
  {
   "cell_type": "code",
   "execution_count": 67,
   "id": "342aeaba-d660-4248-8b7e-b9b8f2004340",
   "metadata": {},
   "outputs": [],
   "source": [
    "fact_table_cleaned = fact_table_cleaned = fact_table_cleaned.drop_duplicates()"
   ]
  },
  {
   "cell_type": "code",
   "execution_count": 71,
   "id": "ae62c793-1518-47bf-8ee8-ecb6486f5662",
   "metadata": {},
   "outputs": [
    {
     "name": "stdout",
     "output_type": "stream",
     "text": [
      "\n",
      "After Cleaning - Duplicates Removed:\n",
      "0 duplicate rows found\n"
     ]
    }
   ],
   "source": [
    "#After cleaning\n",
    "\n",
    "print(\"\\nAfter Cleaning - Duplicates Removed:\")\n",
    "print(fact_table_cleaned.duplicated().sum(), \"duplicate rows found\")"
   ]
  },
  {
   "cell_type": "code",
   "execution_count": 75,
   "id": "45f73329-69b6-4472-8583-5f16cd36a032",
   "metadata": {},
   "outputs": [],
   "source": [
    "#DIM PATIENT\n",
    "#issue: missing values in email and city and question is how can we fill missing values in email and city with placeholders?"
   ]
  },
  {
   "cell_type": "code",
   "execution_count": 81,
   "id": "b15f6955-138f-443b-83a0-bbaa620351c0",
   "metadata": {},
   "outputs": [
    {
     "name": "stdout",
     "output_type": "stream",
     "text": [
      "before cleaning - missing email and city in dimPatient:\n",
      "Email    1\n",
      "City     1\n",
      "dtype: int64\n"
     ]
    }
   ],
   "source": [
    "#before cleaning\n",
    "print(\"before cleaning - missing email and city in dimPatient:\")\n",
    "print(dim_patient[['Email', 'City']].isnull().sum())"
   ]
  },
  {
   "cell_type": "code",
   "execution_count": 83,
   "id": "3ed74754-a12b-4470-98eb-344aeff3157d",
   "metadata": {},
   "outputs": [],
   "source": [
    "dim_patient_cleaned = dim_patient.fillna({'Email': 'unknown@datacourse.com', 'City': 'Unknown'})"
   ]
  },
  {
   "cell_type": "code",
   "execution_count": 85,
   "id": "9fed6ae7-f61c-4cba-a3ad-ff16e94d5bba",
   "metadata": {},
   "outputs": [
    {
     "name": "stdout",
     "output_type": "stream",
     "text": [
      "\n",
      "After Cleaning - filled missing email and city:\n",
      "Email    0\n",
      "City     0\n",
      "dtype: int64\n"
     ]
    }
   ],
   "source": [
    "#After cleaning\n",
    "\n",
    "print(\"\\nAfter Cleaning - filled missing email and city:\")\n",
    "print(dim_patient_cleaned[['Email','City']].isnull().sum())"
   ]
  },
  {
   "cell_type": "code",
   "execution_count": 89,
   "id": "7a38924a-6807-41ae-b366-7e82e8d1458a",
   "metadata": {},
   "outputs": [],
   "source": [
    "#PATIENTGENDER\n",
    "#issue: typos in PatientGender\n",
    "#Q. How can we correct typos in the PatientGender column?"
   ]
  },
  {
   "cell_type": "code",
   "execution_count": 91,
   "id": "7ec9c563-7b97-4447-80c7-2a6f4a20585a",
   "metadata": {},
   "outputs": [
    {
     "name": "stdout",
     "output_type": "stream",
     "text": [
      "before cleaning - typos in patientgender:\n",
      "PatientGender\n",
      "Female    3004\n",
      "Male      2111\n",
      "Femle        1\n",
      "Mle          1\n",
      "Name: count, dtype: int64\n"
     ]
    }
   ],
   "source": [
    "#before cleaning\n",
    "print(\"before cleaning - typos in patientgender:\")\n",
    "print(dim_patient['PatientGender'].value_counts())"
   ]
  },
  {
   "cell_type": "code",
   "execution_count": 95,
   "id": "510a6e63-ff13-4759-9637-2cd119130416",
   "metadata": {},
   "outputs": [],
   "source": [
    "dim_patient['PatientGender'] = dim_patient['PatientGender'].replace({'Femle': 'Female', 'Mle': 'Male'})"
   ]
  },
  {
   "cell_type": "code",
   "execution_count": 97,
   "id": "fafc57af-c035-448a-b80a-f1dc652d0613",
   "metadata": {},
   "outputs": [
    {
     "name": "stdout",
     "output_type": "stream",
     "text": [
      "aftercleaning - typos in patientgender FIXED:\n",
      "PatientGender\n",
      "Female    3005\n",
      "Male      2112\n",
      "Name: count, dtype: int64\n"
     ]
    }
   ],
   "source": [
    "#after cleaning\n",
    "print(\"aftercleaning - typos in patientgender FIXED:\")\n",
    "print(dim_patient['PatientGender'].value_counts())"
   ]
  },
  {
   "cell_type": "code",
   "execution_count": 101,
   "id": "f620021d-86aa-4113-bb00-3b18269fcdfb",
   "metadata": {},
   "outputs": [
    {
     "name": "stdout",
     "output_type": "stream",
     "text": [
      "['  Charge ' 'Charge' 'Adjustment' 'Payment' 'Denial' 'Invoice' 'Bill']\n"
     ]
    }
   ],
   "source": [
    "#dimTransaction\n",
    "#issue: extra whitespace in TransactionType\n",
    "#Question: how can we strip whitespace from the TransactionType\n",
    "#print(\"before cleaning - whitespace in transactiontype:\")\n",
    "print(dim_transaction['TransactionType'].unique())"
   ]
  },
  {
   "cell_type": "code",
   "execution_count": 109,
   "id": "eaadccd2-203b-49ef-9903-664d1dd19c8b",
   "metadata": {},
   "outputs": [],
   "source": [
    "dim_transaction_cleaned = dim_transaction.copy()\n",
    "dim_transaction_cleaned['TransactionType'] = dim_transaction['TransactionType'].str.strip()"
   ]
  },
  {
   "cell_type": "code",
   "execution_count": 105,
   "id": "31ec5207-eb1b-4087-a03b-06d6f5b21f09",
   "metadata": {},
   "outputs": [
    {
     "name": "stdout",
     "output_type": "stream",
     "text": [
      "['Charge' 'Adjustment' 'Payment' 'Denial' 'Invoice' 'Bill']\n"
     ]
    }
   ],
   "source": [
    "#print(\"after cleaning - NO whitespace\")\n",
    "print(dim_transaction['TransactionType'].unique())"
   ]
  },
  {
   "cell_type": "code",
   "execution_count": 111,
   "id": "beadca38-4e41-479b-b339-c6c5ce10ccf9",
   "metadata": {},
   "outputs": [],
   "source": [
    "#^now theres only one charge cause when the space was removed the first \" charge \" is now in the same category as the other one cause its the same now\n"
   ]
  },
  {
   "cell_type": "code",
   "execution_count": 117,
   "id": "6837790e-951a-4679-a973-709593a91728",
   "metadata": {},
   "outputs": [
    {
     "name": "stdout",
     "output_type": "stream",
     "text": [
      "before cleaning - missing AdjustmentReason:\n",
      "1 missing values\n"
     ]
    }
   ],
   "source": [
    "#ISSUE: MISSING AdjustmentReason Values\n",
    "#Question: How can we fill missing AdjustmentReason with a default value?\n",
    "\n",
    "#before cleaning\n",
    "\n",
    "print(\"before cleaning - missing AdjustmentReason:\")\n",
    "print(dim_transaction['AdjustmentReason'].isnull().sum(), \"missing values\")"
   ]
  },
  {
   "cell_type": "code",
   "execution_count": 131,
   "id": "8ea8a169-3c33-4dfc-a568-bbaf1d8c8e60",
   "metadata": {},
   "outputs": [],
   "source": [
    "dim_transaction_cleaned['AdjustmentReason'] = dim_transaction_cleaned['AdjustmentReason'].fillna('Unknown')"
   ]
  },
  {
   "cell_type": "code",
   "execution_count": 135,
   "id": "147e700c-0357-48f6-bb52-4a8cbf06c00f",
   "metadata": {},
   "outputs": [
    {
     "name": "stdout",
     "output_type": "stream",
     "text": [
      "after cleaning - NO MISSING VALUES IN AdjustmentReason:\n",
      "0 missing values\n"
     ]
    }
   ],
   "source": [
    "#after cleaning\n",
    "\n",
    "print(\"after cleaning - NO MISSING VALUES IN AdjustmentReason:\")\n",
    "print(dim_transaction_cleaned['AdjustmentReason'].isnull().sum(), \"missing values\")"
   ]
  },
  {
   "cell_type": "code",
   "execution_count": 137,
   "id": "92f20e63-1b4d-4a9d-b00b-b6df84cdc612",
   "metadata": {},
   "outputs": [],
   "source": [
    "#dimPHYSICIAN\n",
    "#Issue: invalid providerFTE values\n",
    "#Q: how can we filter out rows where provider FTE exceeds 1.0?"
   ]
  },
  {
   "cell_type": "code",
   "execution_count": 141,
   "id": "b43c84c5-300d-45fd-8a3f-80c5b82679a8",
   "metadata": {},
   "outputs": [
    {
     "name": "stdout",
     "output_type": "stream",
     "text": [
      "before cleaning - invalid providerFTE values:\n",
      "count    932.000000\n",
      "mean       0.764206\n",
      "std        0.281029\n",
      "min        0.000000\n",
      "25%        0.600000\n",
      "50%        0.900000\n",
      "75%        1.000000\n",
      "max        1.500000\n",
      "Name: ProviderFTE, dtype: float64\n"
     ]
    }
   ],
   "source": [
    "#before cleaning\n",
    "print(\"before cleaning - invalid providerFTE values:\")\n",
    "dim_physician = sheets['dimPhysician'] #defining dim_physician\n",
    "print(dim_physician['ProviderFTE'].describe())"
   ]
  },
  {
   "cell_type": "code",
   "execution_count": null,
   "id": "5a941f0a-0759-4ff4-a3d7-9453ea057496",
   "metadata": {},
   "outputs": [],
   "source": [
    "#incomplete for now: havent added the cleaned section"
   ]
  }
 ],
 "metadata": {
  "kernelspec": {
   "display_name": "Python 3 (ipykernel)",
   "language": "python",
   "name": "python3"
  },
  "language_info": {
   "codemirror_mode": {
    "name": "ipython",
    "version": 3
   },
   "file_extension": ".py",
   "mimetype": "text/x-python",
   "name": "python",
   "nbconvert_exporter": "python",
   "pygments_lexer": "ipython3",
   "version": "3.12.4"
  }
 },
 "nbformat": 4,
 "nbformat_minor": 5
}
